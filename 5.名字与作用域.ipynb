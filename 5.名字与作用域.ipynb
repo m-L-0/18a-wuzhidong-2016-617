{
 "cells": [
  {
   "cell_type": "markdown",
   "metadata": {},
   "source": [
    "1.总结`name_scope`与`variable_scope`的作用以及异同点。"
   ]
  },
  {
   "cell_type": "markdown",
   "metadata": {},
   "source": [
    "作用:用来给不同操作区域划分范围\n",
    "相同点：\n",
    "其内部功能是在其代码块内显式创建的变量都会带上scope前缀,这一点它们几乎一样。\n",
    "不同点：\n",
    "在其作用域中获取变量，它们对 tf.get_variable() 函数的作用是一个会自动添加前缀，\n",
    "一个不会添加前缀。"
   ]
  },
  {
   "cell_type": "markdown",
   "metadata": {},
   "source": [
    "2.构建逻辑回归模型（只有模型部分，不包括训练部分），使用`get_variable`与`variable_scope`将变量的创建与使用分开。提示：使用`tf.nn.sigmoid`实现`logistic`函数。"
   ]
  },
  {
   "cell_type": "code",
   "execution_count": null,
   "metadata": {},
   "outputs": [],
   "source": [
    "import tensorflow as tf\n",
    "X=tf.placeholder(tf.float32)\n",
    "\n",
    "with tf.variable_scope('a',reuse=tf.AUTO_REUSE) as scope:\n",
    "    w=tf.get_variable('w',\n",
    "                      initializer=tf.random_normal_initializer(mean=0.0, \n",
    "                                                               stddev=1.0, \n",
    "                                                               seed=None, \n",
    "                                                               dtype=tf.float32),shape=[1],dtype=tf.float32)\n",
    "    b=tf.get_variable('b',\n",
    "                      initializer=tf.random_normal_initializer(mean=0.0, \n",
    "                                                                   stddev=1.0, \n",
    "                                                                   seed=None, \n",
    "                                                                   dtype=tf.float32), shape=[1],dtype=tf.float32)\n",
    "    yp=tf.nn.sigmoid(tf.add(tf.multiply(X,tf.get_variable('w')),tf.get_variable('b')))\n",
    "\n",
    "with tf.Session() as sess:\n",
    "    sess.run(tf.global_variables_initializer())\n",
    "    print(sess.run(yp,feed_dict={X:1.5}))"
   ]
  },
  {
   "cell_type": "raw",
   "metadata": {},
   "source": []
  },
  {
   "cell_type": "code",
   "execution_count": null,
   "metadata": {},
   "outputs": [],
   "source": []
  }
 ],
 "metadata": {
  "kernelspec": {
   "display_name": "Python 3",
   "language": "python",
   "name": "python3"
  },
  "language_info": {
   "codemirror_mode": {
    "name": "ipython",
    "version": 3
   },
   "file_extension": ".py",
   "mimetype": "text/x-python",
   "name": "python",
   "nbconvert_exporter": "python",
   "pygments_lexer": "ipython3",
   "version": "3.6.4"
  }
 },
 "nbformat": 4,
 "nbformat_minor": 2
}
