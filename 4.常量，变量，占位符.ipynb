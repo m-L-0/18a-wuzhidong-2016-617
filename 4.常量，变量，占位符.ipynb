{
 "cells": [
  {
   "cell_type": "markdown",
   "metadata": {},
   "source": [
    "### 常量，变量，占位符作业"
   ]
  },
  {
   "cell_type": "raw",
   "metadata": {},
   "source": [
    "import tensorflow as tf\n",
    "with tf.Graph().as_default() as g:\n",
    "    a=tf.Variable(2.9)\n",
    "    b=tf.Variable(9.5)\n",
    "    c=tf.Variable(1.0)\n",
    "    x=tf.placeholder(dtype=tf.float32,shape=[])\n",
    "    y=tf.placeholder(dtype=tf.float32,shape=[])\n",
    "    z=tf.add(tf.add(tf.multiply(a,x),tf.multiply(b,y)),c)\n",
    "with tf.Session(graph= g) as sess:\n",
    "    sess.run(tf.global_variables_initializer())\n",
    "    print(sess.run(z,feed_dict={x:3.5,y:4.2}))"
   ]
  }
 ],
 "metadata": {
  "kernelspec": {
   "display_name": "Python 3",
   "language": "python",
   "name": "python3"
  },
  "language_info": {
   "codemirror_mode": {
    "name": "ipython",
    "version": 3
   },
   "file_extension": ".py",
   "mimetype": "text/x-python",
   "name": "python",
   "nbconvert_exporter": "python",
   "pygments_lexer": "ipython3",
   "version": "3.6.4"
  }
 },
 "nbformat": 4,
 "nbformat_minor": 2
}
