{
 "cells": [
  {
   "cell_type": "markdown",
   "metadata": {},
   "source": [
    "### 图与会话作业"
   ]
  },
  {
   "cell_type": "markdown",
   "metadata": {},
   "source": [
    "#### 1. 在一个notebook文件中构建一张图，实现两个数的加法操作，并在两个不同的会话中执行图。"
   ]
  },
  {
   "cell_type": "code",
   "execution_count": 1,
   "metadata": {},
   "outputs": [],
   "source": [
    "import tensorflow as tf"
   ]
  },
  {
   "cell_type": "code",
   "execution_count": 8,
   "metadata": {},
   "outputs": [
    {
     "name": "stdout",
     "output_type": "stream",
     "text": [
      "9\n",
      "9\n"
     ]
    }
   ],
   "source": [
    "with tf.Graph().as_default() as g:\n",
    "    a = tf.add(3,6)\n",
    "    \n",
    "with tf.Session(graph = g) as sess1:\n",
    "    print(sess1.run(a))\n",
    "\n",
    "with tf.Session(graph = g) as sess2:\n",
    "    print(sess2.run(a))"
   ]
  },
  {
   "cell_type": "markdown",
   "metadata": {},
   "source": [
    "#### 2.查找资料学习TensorFlow中执行常量基本运算API的基本用法，如`tf.add`、`tf.subtract`、`tf.multiply`、`tf.divide`、`tf.mod`、`tf.pow`、`tf.square`、`tf.sqrt`等的用法，并在notebook中演示其基本用法。"
   ]
  },
  {
   "cell_type": "code",
   "execution_count": 13,
   "metadata": {},
   "outputs": [
    {
     "name": "stdout",
     "output_type": "stream",
     "text": [
      "[8, 2, 15, 2, 1, 9, 25, 3.0, 0.84147096, 0.54030228, 3, 5]\n"
     ]
    }
   ],
   "source": [
    "with tf.Graph().as_default() as g2:\n",
    "    a = tf.add(5,3)  #两数之和\n",
    "    b = tf.subtract(5,3)  #两数之差\n",
    "    c = tf.multiply(5,3)  #两数相乘\n",
    "    d = tf.div(6,3)  #除法运算\n",
    "    e = tf.mod(7,2)  #取模\n",
    "    f = tf.pow(3,2)  #tf.pow(x,y)  x的y次方\n",
    "    g = tf.square(5)  #平方\n",
    "    h = tf.sqrt(9.0)  #开方 float32, float64, int32, complex64, int64\n",
    "    i = tf.sin(1.0)  #sin值 \n",
    "    j = tf.cos(1.0)  #cos值\n",
    "    k = tf.minimum(3,5)  #tf.maximum(x, y) (i.e. x > y ? x : y)\n",
    "    l = tf.maximum(3,5)  #(i.e. x < y ? x : y)\n",
    "\n",
    "with tf.Session(graph=g2) as sess:\n",
    "    print(sess.run([a,b,c,d,e,f,g,h,i,j,k,l]))"
   ]
  }
 ],
 "metadata": {
  "kernelspec": {
   "display_name": "Python 3",
   "language": "python",
   "name": "python3"
  },
  "language_info": {
   "codemirror_mode": {
    "name": "ipython",
    "version": 3
   },
   "file_extension": ".py",
   "mimetype": "text/x-python",
   "name": "python",
   "nbconvert_exporter": "python",
   "pygments_lexer": "ipython3",
   "version": "3.6.4"
  }
 },
 "nbformat": 4,
 "nbformat_minor": 2
}
